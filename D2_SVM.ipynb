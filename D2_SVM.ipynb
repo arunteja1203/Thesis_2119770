{
  "nbformat": 4,
  "nbformat_minor": 0,
  "metadata": {
    "colab": {
      "provenance": []
    },
    "kernelspec": {
      "name": "python3",
      "display_name": "Python 3"
    },
    "language_info": {
      "name": "python"
    }
  },
  "cells": [
    {
      "cell_type": "code",
      "execution_count": null,
      "metadata": {
        "id": "ChosR14ARxoG"
      },
      "outputs": [],
      "source": [
        "# Import the pandas library\n",
        "import pandas as pd\n",
        "# Read the Main data CSV file into a data frame\n",
        "Main_df = pd.read_csv(r'/content/sample_data/Main.csv',engine='python')"
      ]
    },
    {
      "cell_type": "code",
      "source": [
        "Main_df.info()"
      ],
      "metadata": {
        "colab": {
          "base_uri": "https://localhost:8080/"
        },
        "id": "vShHSkL5SK2W",
        "outputId": "a22250d7-ea16-46f8-aad7-af7e384815bc"
      },
      "execution_count": null,
      "outputs": [
        {
          "output_type": "stream",
          "name": "stdout",
          "text": [
            "<class 'pandas.core.frame.DataFrame'>\n",
            "RangeIndex: 30452 entries, 0 to 30451\n",
            "Data columns (total 8 columns):\n",
            " #   Column  Non-Null Count  Dtype  \n",
            "---  ------  --------------  -----  \n",
            " 0   City    30452 non-null  object \n",
            " 1   PM2.5   30452 non-null  float64\n",
            " 2   PM10    30452 non-null  float64\n",
            " 3   NO2     30452 non-null  float64\n",
            " 4   CO      30452 non-null  float64\n",
            " 5   O3      30452 non-null  float64\n",
            " 6   AQI     30452 non-null  int64  \n",
            " 7   Year    30452 non-null  int64  \n",
            "dtypes: float64(5), int64(2), object(1)\n",
            "memory usage: 1.9+ MB\n"
          ]
        }
      ]
    },
    {
      "cell_type": "code",
      "source": [
        "from sklearn.svm import SVR\n",
        "from sklearn.model_selection import train_test_split\n",
        "from sklearn.metrics import mean_absolute_error, mean_squared_error, r2_score\n",
        "import numpy as np\n",
        "# Splitting the data into training and testing sets\n",
        "X = Main_df.drop(['AQI', 'City'], axis=1)\n",
        "y = Main_df['AQI']\n",
        "X_train, X_test, y_train, y_test = train_test_split(X, y, test_size=0.2, random_state=42)\n",
        "\n",
        "# Training the support vector machine model\n",
        "model = SVR(kernel='linear')\n",
        "model.fit(X_train, y_train)\n",
        "\n",
        "# Making predictions on the test set\n",
        "y_pred = model.predict(X_test)\n",
        "\n",
        "# Evaluate the model\n",
        "corr_coef = np.corrcoef(y_test, y_pred)[0, 1]\n",
        "rmse = np.sqrt(mean_squared_error(y_test, y_pred))\n",
        "r2 = r2_score(y_test, y_pred)\n",
        "mae = mean_absolute_error(y_test, y_pred)\n",
        "print(\"Mean Absolute Error: \", mae)\n",
        "print(\"Correlation coefficient: \", corr_coef)\n",
        "print(\"Root Mean Squared Error: \", rmse)\n",
        "print(\"R-squared: \", r2)"
      ],
      "metadata": {
        "colab": {
          "base_uri": "https://localhost:8080/"
        },
        "id": "enQieMYXTkAR",
        "outputId": "0a9634a6-285a-47cb-9ffa-e62469810c48"
      },
      "execution_count": null,
      "outputs": [
        {
          "output_type": "stream",
          "name": "stdout",
          "text": [
            "Mean Absolute Error:  30.12320597674586\n",
            "Correlation coefficient:  0.8551091702586783\n",
            "Root Mean Squared Error:  64.90209234726436\n",
            "R-squared:  0.6938241167427275\n"
          ]
        }
      ]
    },
    {
      "cell_type": "code",
      "source": [
        "import pandas as pd\n",
        "from sklearn.preprocessing import StandardScaler\n",
        "from sklearn.svm import SVR\n",
        "from sklearn.model_selection import train_test_split\n",
        "from sklearn.metrics import mean_absolute_error, mean_squared_error, r2_score\n",
        "\n",
        "# Drop the columns related to cities\n",
        "city_cols = [col for col in Main_df.columns if col.startswith('City_')]\n",
        "X = Main_df.drop(['AQI', 'Year'] + city_cols, axis=1)\n",
        "y = Main_df['AQI']\n",
        "\n",
        "# Normalize the features\n",
        "scaler = StandardScaler()\n",
        "X_scaled = scaler.fit_transform(X)\n",
        "\n",
        "# Split the data into train and test sets\n",
        "X_train, X_test, y_train, y_test = train_test_split(X_scaled, y, test_size=0.2, random_state=42)\n",
        "\n",
        "# Train the SVR model\n",
        "model = SVR(kernel='linear')\n",
        "model.fit(X_train, y_train)\n",
        "\n",
        "# Making predictions and evaluating the model\n",
        "y_pred = model.predict(X_test)\n",
        "mae = mean_absolute_error(y_test, y_pred)\n",
        "mse = mean_squared_error(y_test, y_pred)\n",
        "rmse = mean_squared_error(y_test, y_pred, squared=False)\n",
        "r2 = r2_score(y_test, y_pred)\n",
        "# calculate correlation coefficient\n",
        "corr = np.corrcoef(y_test, y_pred)[0, 1]\n",
        "print(\"Mean Absolute Error:\", mae)\n",
        "\n",
        "print(\"Root Mean Squared Error:\", rmse)\n",
        "print(\"R-squared:\", r2)\n",
        "\n",
        "print('Correlation coefficient: ', corr)"
      ],
      "metadata": {
        "colab": {
          "base_uri": "https://localhost:8080/"
        },
        "id": "Wob_y1i6WvLv",
        "outputId": "6e8b29c9-97e8-44cf-8135-840ac85b9f9a"
      },
      "execution_count": null,
      "outputs": [
        {
          "output_type": "stream",
          "name": "stdout",
          "text": [
            "Mean Absolute Error: 28.996563594083536\n",
            "Root Mean Squared Error: 68.96991198525396\n",
            "R-squared: 0.6542414511225183\n",
            "Correlation coefficient:  0.835514663640681\n"
          ]
        }
      ]
    },
    {
      "cell_type": "code",
      "source": [
        "from sklearn.preprocessing import StandardScaler\n",
        "from sklearn.svm import SVR\n",
        "from sklearn.model_selection import train_test_split\n",
        "from sklearn.metrics import mean_absolute_error, mean_squared_error, r2_score\n",
        "\n",
        "# Select the features\n",
        "features = ['PM2.5', 'PM10', 'NO2', 'CO', 'O3']\n",
        "\n",
        "# Split the data into X and y\n",
        "X = Main_df[features]\n",
        "y = Main_df[\"AQI\"]\n",
        "\n",
        "# Normalize the features\n",
        "scaler = StandardScaler()\n",
        "X_scaled = scaler.fit_transform(X)\n",
        "\n",
        "# Split the data into train and test sets\n",
        "X_train, X_test, y_train, y_test = train_test_split(X_scaled, y, test_size=0.2, random_state=42)\n",
        "\n",
        "# Train the SVR model\n",
        "model = SVR(kernel='linear')\n",
        "model.fit(X_train, y_train)\n",
        "# Making predictions and evaluating the model\n",
        "y_pred = model.predict(X_test)\n",
        "mae = mean_absolute_error(y_test, y_pred)\n",
        "\n",
        "rmse = mean_squared_error(y_test, y_pred, squared=False)\n",
        "r2 = r2_score(y_test, y_pred)\n",
        "# calculate correlation coefficient\n",
        "corr = np.corrcoef(y_test, y_pred)[0, 1]\n",
        "print(\"Mean Absolute Error:\", mae)\n",
        "\n",
        "print(\"Root Mean Squared Error:\", rmse)\n",
        "print(\"R-squared:\", r2)\n",
        "\n",
        "print('Correlation coefficient: ', corr)\n"
      ],
      "metadata": {
        "colab": {
          "base_uri": "https://localhost:8080/"
        },
        "id": "hMIIX5EjeJ1A",
        "outputId": "eeb111dd-3c54-490b-d3d4-d604548a3bbc"
      },
      "execution_count": null,
      "outputs": [
        {
          "output_type": "stream",
          "name": "stdout",
          "text": [
            "Mean Absolute Error: 28.996563594083536\n",
            "Root Mean Squared Error: 68.96991198525396\n",
            "R-squared: 0.6542414511225183\n",
            "Correlation coefficient:  0.835514663640681\n"
          ]
        }
      ]
    }
  ]
}