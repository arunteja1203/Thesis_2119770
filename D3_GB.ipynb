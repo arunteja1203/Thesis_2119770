{
  "nbformat": 4,
  "nbformat_minor": 0,
  "metadata": {
    "colab": {
      "provenance": []
    },
    "kernelspec": {
      "name": "python3",
      "display_name": "Python 3"
    },
    "language_info": {
      "name": "python"
    }
  },
  "cells": [
    {
      "cell_type": "code",
      "execution_count": null,
      "metadata": {
        "id": "bYCyc2gZmiX-"
      },
      "outputs": [],
      "source": [
        "# Import the pandas library\n",
        "import pandas as pd\n",
        "# Read the Main data CSV file into a data frame\n",
        "Main_df = pd.read_csv(r'/content/sample_data/Main.csv',engine='python')"
      ]
    },
    {
      "cell_type": "code",
      "source": [
        "Main_df.info()"
      ],
      "metadata": {
        "colab": {
          "base_uri": "https://localhost:8080/"
        },
        "id": "axKwiSE4m5VH",
        "outputId": "3c94ae52-7546-4ff5-af53-e0e46c15e97d"
      },
      "execution_count": null,
      "outputs": [
        {
          "output_type": "stream",
          "name": "stdout",
          "text": [
            "<class 'pandas.core.frame.DataFrame'>\n",
            "RangeIndex: 30452 entries, 0 to 30451\n",
            "Data columns (total 8 columns):\n",
            " #   Column  Non-Null Count  Dtype  \n",
            "---  ------  --------------  -----  \n",
            " 0   City    30452 non-null  object \n",
            " 1   PM2.5   30452 non-null  float64\n",
            " 2   PM10    30452 non-null  float64\n",
            " 3   NO2     30452 non-null  float64\n",
            " 4   CO      30452 non-null  float64\n",
            " 5   O3      30452 non-null  float64\n",
            " 6   AQI     30452 non-null  int64  \n",
            " 7   Year    30452 non-null  int64  \n",
            "dtypes: float64(5), int64(2), object(1)\n",
            "memory usage: 1.9+ MB\n"
          ]
        }
      ]
    },
    {
      "cell_type": "code",
      "source": [
        "from sklearn.model_selection import train_test_split\n",
        "from sklearn.ensemble import GradientBoostingRegressor\n",
        "from sklearn.metrics import mean_absolute_error, mean_squared_error, r2_score\n",
        "import numpy as np\n",
        "\n",
        "# Step 1: Split the data into training and testing sets\n",
        "X = Main_df.drop(['AQI'], axis=1)\n",
        "y = Main_df['AQI']\n",
        "\n",
        "X_train, X_test, y_train, y_test = train_test_split(X, y, test_size=0.2, random_state=42)\n",
        "\n",
        "# Step 2: Define the features and target variable\n",
        "features = ['PM2.5', 'PM10', 'NO2', 'CO', 'O3']\n",
        "X_train = X_train[features]\n",
        "X_test = X_test[features]\n",
        "\n",
        "# Step 3: Create a Gradient Boosting model\n",
        "gb_model = GradientBoostingRegressor(n_estimators=100, learning_rate=0.2, random_state=42)\n",
        "\n",
        "# Step 4: Fit the model\n",
        "gb_model.fit(X_train, y_train)\n",
        "\n",
        "# Step 5: Make predictions\n",
        "y_pred = gb_model.predict(X_test)\n",
        "\n",
        "# evaluating the model\n",
        "\n",
        "mae = mean_absolute_error(y_test, y_pred)\n",
        "rmse = mean_squared_error(y_test, y_pred, squared=False)\n",
        "r2 = r2_score(y_test, y_pred)\n",
        "# calculate correlation coefficient\n",
        "corr = np.corrcoef(y_test, y_pred)[0, 1]\n",
        "print(\"Mean Absolute Error:\", mae)\n",
        "\n",
        "print(\"Root Mean Squared Error:\", rmse)\n",
        "print(\"R-squared:\", r2)\n",
        "\n",
        "print('Correlation coefficient: ', corr)"
      ],
      "metadata": {
        "colab": {
          "base_uri": "https://localhost:8080/"
        },
        "id": "dDlpV0OHnVtb",
        "outputId": "7ac0daab-f802-4c83-9141-2a55a077c7f8"
      },
      "execution_count": null,
      "outputs": [
        {
          "output_type": "stream",
          "name": "stdout",
          "text": [
            "Mean Absolute Error: 19.12445104250231\n",
            "Root Mean Squared Error: 31.59291726354723\n",
            "R-squared: 0.9274507305478794\n",
            "Correlation coefficient:  0.9630440054472365\n"
          ]
        }
      ]
    },
    {
      "cell_type": "code",
      "source": [
        "from sklearn.model_selection import train_test_split\n",
        "from sklearn.ensemble import GradientBoostingRegressor\n",
        "from sklearn.metrics import mean_absolute_error, mean_squared_error, r2_score\n",
        "from sklearn.preprocessing import StandardScaler\n",
        "import numpy as np\n",
        "\n",
        "# Step 1: Split the data into training and testing sets\n",
        "X = Main_df.drop(['AQI'], axis=1)\n",
        "y = Main_df['AQI']\n",
        "\n",
        "X_train, X_test, y_train, y_test = train_test_split(X, y, test_size=0.2, random_state=42)\n",
        "\n",
        "# Step 2: Define the features and target variable\n",
        "features = ['PM2.5', 'PM10', 'NO2', 'CO', 'O3']\n",
        "X_train = X_train[features]\n",
        "X_test = X_test[features]\n",
        "\n",
        "# Step 3: Normalize the features using StandardScaler\n",
        "scaler = StandardScaler()\n",
        "X_train = scaler.fit_transform(X_train)\n",
        "X_test = scaler.transform(X_test)\n",
        "\n",
        "# Step 4: Create a Gradient Boosting model\n",
        "gb_model = GradientBoostingRegressor(n_estimators=100, learning_rate=0.2, random_state=42)\n",
        "\n",
        "# Step 5: Fit the model\n",
        "gb_model.fit(X_train, y_train)\n",
        "\n",
        "# Step 6: Make predictions\n",
        "y_pred = gb_model.predict(X_test)\n",
        "\n",
        "# evaluating the model\n",
        "\n",
        "mae = mean_absolute_error(y_test, y_pred)\n",
        "rmse = mean_squared_error(y_test, y_pred, squared=False)\n",
        "r2 = r2_score(y_test, y_pred)\n",
        "# calculate correlation coefficient\n",
        "corr = np.corrcoef(y_test, y_pred)[0, 1]\n",
        "print(\"Mean Absolute Error:\", mae)\n",
        "\n",
        "print(\"Root Mean Squared Error:\", rmse)\n",
        "print(\"R-squared:\", r2)\n",
        "\n",
        "print('Correlation coefficient: ', corr)"
      ],
      "metadata": {
        "colab": {
          "base_uri": "https://localhost:8080/"
        },
        "id": "hQO3T5cYomBi",
        "outputId": "8f0f0225-b04e-4ba3-dc71-10d4f9e1dbf4"
      },
      "execution_count": null,
      "outputs": [
        {
          "output_type": "stream",
          "name": "stdout",
          "text": [
            "Mean Absolute Error: 19.123916651012244\n",
            "Root Mean Squared Error: 31.592288626384377\n",
            "R-squared: 0.9274536176958302\n",
            "Correlation coefficient:  0.9630455230305436\n"
          ]
        }
      ]
    }
  ]
}